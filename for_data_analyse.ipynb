{
 "cells": [
  {
   "cell_type": "markdown",
   "source": [
    "Загружаем данные по API c сайта Роскомсвободы"
   ],
   "metadata": {
    "collapsed": false,
    "pycharm": {
     "name": "#%% md\n"
    }
   }
  },
  {
   "cell_type": "code",
   "execution_count": 1,
   "metadata": {
    "collapsed": true,
    "pycharm": {
     "name": "#%%\n"
    }
   },
   "outputs": [],
   "source": [
    "import requests\n",
    "\n",
    "req = requests.get('https://reestr.rublacklist.net/api/v2/current/csv')\n",
    "data = req.content.decode()\n",
    "data_lines = []\n",
    "for row in data.splitlines():\n",
    "         # cоздаем список списков в виде [['ip', 'page', 'link', 'gos_organ', 'postanovlenie', 'date'], [...], [...], ...]\n",
    "    data_lines.append(row.rsplit(sep=',', maxsplit=5))\n"
   ]
  },
  {
   "cell_type": "code",
   "execution_count": null,
   "outputs": [],
   "source": [
    "data_lines"
   ],
   "metadata": {
    "collapsed": false,
    "pycharm": {
     "name": "#%%\n",
     "is_executing": true
    }
   }
  },
  {
   "cell_type": "markdown",
   "source": [
    "Формируем датафрейм"
   ],
   "metadata": {
    "collapsed": false,
    "pycharm": {
     "name": "#%% md\n"
    }
   }
  },
  {
   "cell_type": "code",
   "execution_count": 260,
   "outputs": [],
   "source": [
    "import pandas as pd\n",
    "\n",
    "df = pd.DataFrame(data_lines)"
   ],
   "metadata": {
    "collapsed": false,
    "pycharm": {
     "name": "#%%\n"
    }
   }
  },
  {
   "cell_type": "code",
   "execution_count": 263,
   "outputs": [
    {
     "data": {
      "text/plain": "                                                        0  \\\n0                                                      ip   \n1       ['172.67.129.252', '104.21.3.7', '2606:4700:30...   \n2       ['188.114.96.2', '188.114.97.2', '2a06:98c1:31...   \n3       ['188.114.96.2', '188.114.97.2', '2a06:98c1:31...   \n4       ['188.114.97.2', '188.114.96.2', '2a06:98c1:31...   \n...                                                   ...   \n566009  ['188.114.97.2', '188.114.96.2', '2a06:98c1:31...   \n566010                                 ['91.209.226.154']   \n566011  ['2606:4700:3036::ac43:b0e1', '104.21.96.107',...   \n566012  ['2606:4700:3037::ac43:ad36', '2606:4700:3034:...   \n566013  ['188.114.96.2', '188.114.97.2', '2a06:98c1:31...   \n\n                                    1  \\\n0                                page   \n1                         daside.club   \n2                        *.g-live.xyz   \n3                        omikron-r.ru   \n4                          ivecop.com   \n...                               ...   \n566009           hidraruzxpnew4af.net   \n566010  hydrarusikxpnew4bfonionon.com   \n566011                   livetv513.me   \n566012       hydraruxzmpnsnews4af.com   \n566013                 sistemsell.com   \n\n                                                        2  \\\n0                                                    link   \n1       https://daside.club/threads/debetovye-karty-ot...   \n2                                                           \n3                     https://omikron-r.ru/zhivotnye-jady   \n4              https://ivecop.com/catalog/Vasu-HealthCare   \n...                                                   ...   \n566009                                                      \n566010                                                      \n566011                                                      \n566012                                                      \n566013                                                      \n\n                                                        3                   4  \\\n0                                               gos_organ       postanovlenie   \n1       Северодвинский городской суд - Архангельская о...        2а-1372/2022   \n2                                                     МВД     2022-02-18-1932   \n3            Ковдорский районный суд - Мурманская область          2а-74/2022   \n4                                          Росздравнадзор  2022-02-18-2761-ПЛ   \n...                                                   ...                 ...   \n566009                                                МВД     2020-07-15-1257   \n566010                                                МВД     2020-07-15-1257   \n566011                                        Минкомсвязь       1з-44497/2022   \n566012                                                МВД     2020-07-15-1257   \n566013                                                МВД     2022-02-18-2086   \n\n                 5  \n0             date  \n1       2022-01-27  \n2       2022-02-18  \n3       2022-02-17  \n4       2022-02-21  \n...            ...  \n566009  2020-07-15  \n566010  2020-07-15  \n566011  2022-02-21  \n566012  2020-07-15  \n566013  2022-02-18  \n\n[566014 rows x 6 columns]",
      "text/html": "<div>\n<style scoped>\n    .dataframe tbody tr th:only-of-type {\n        vertical-align: middle;\n    }\n\n    .dataframe tbody tr th {\n        vertical-align: top;\n    }\n\n    .dataframe thead th {\n        text-align: right;\n    }\n</style>\n<table border=\"1\" class=\"dataframe\">\n  <thead>\n    <tr style=\"text-align: right;\">\n      <th></th>\n      <th>0</th>\n      <th>1</th>\n      <th>2</th>\n      <th>3</th>\n      <th>4</th>\n      <th>5</th>\n    </tr>\n  </thead>\n  <tbody>\n    <tr>\n      <th>0</th>\n      <td>ip</td>\n      <td>page</td>\n      <td>link</td>\n      <td>gos_organ</td>\n      <td>postanovlenie</td>\n      <td>date</td>\n    </tr>\n    <tr>\n      <th>1</th>\n      <td>['172.67.129.252', '104.21.3.7', '2606:4700:30...</td>\n      <td>daside.club</td>\n      <td>https://daside.club/threads/debetovye-karty-ot...</td>\n      <td>Северодвинский городской суд - Архангельская о...</td>\n      <td>2а-1372/2022</td>\n      <td>2022-01-27</td>\n    </tr>\n    <tr>\n      <th>2</th>\n      <td>['188.114.96.2', '188.114.97.2', '2a06:98c1:31...</td>\n      <td>*.g-live.xyz</td>\n      <td></td>\n      <td>МВД</td>\n      <td>2022-02-18-1932</td>\n      <td>2022-02-18</td>\n    </tr>\n    <tr>\n      <th>3</th>\n      <td>['188.114.96.2', '188.114.97.2', '2a06:98c1:31...</td>\n      <td>omikron-r.ru</td>\n      <td>https://omikron-r.ru/zhivotnye-jady</td>\n      <td>Ковдорский районный суд - Мурманская область</td>\n      <td>2а-74/2022</td>\n      <td>2022-02-17</td>\n    </tr>\n    <tr>\n      <th>4</th>\n      <td>['188.114.97.2', '188.114.96.2', '2a06:98c1:31...</td>\n      <td>ivecop.com</td>\n      <td>https://ivecop.com/catalog/Vasu-HealthCare</td>\n      <td>Росздравнадзор</td>\n      <td>2022-02-18-2761-ПЛ</td>\n      <td>2022-02-21</td>\n    </tr>\n    <tr>\n      <th>...</th>\n      <td>...</td>\n      <td>...</td>\n      <td>...</td>\n      <td>...</td>\n      <td>...</td>\n      <td>...</td>\n    </tr>\n    <tr>\n      <th>566009</th>\n      <td>['188.114.97.2', '188.114.96.2', '2a06:98c1:31...</td>\n      <td>hidraruzxpnew4af.net</td>\n      <td></td>\n      <td>МВД</td>\n      <td>2020-07-15-1257</td>\n      <td>2020-07-15</td>\n    </tr>\n    <tr>\n      <th>566010</th>\n      <td>['91.209.226.154']</td>\n      <td>hydrarusikxpnew4bfonionon.com</td>\n      <td></td>\n      <td>МВД</td>\n      <td>2020-07-15-1257</td>\n      <td>2020-07-15</td>\n    </tr>\n    <tr>\n      <th>566011</th>\n      <td>['2606:4700:3036::ac43:b0e1', '104.21.96.107',...</td>\n      <td>livetv513.me</td>\n      <td></td>\n      <td>Минкомсвязь</td>\n      <td>1з-44497/2022</td>\n      <td>2022-02-21</td>\n    </tr>\n    <tr>\n      <th>566012</th>\n      <td>['2606:4700:3037::ac43:ad36', '2606:4700:3034:...</td>\n      <td>hydraruxzmpnsnews4af.com</td>\n      <td></td>\n      <td>МВД</td>\n      <td>2020-07-15-1257</td>\n      <td>2020-07-15</td>\n    </tr>\n    <tr>\n      <th>566013</th>\n      <td>['188.114.96.2', '188.114.97.2', '2a06:98c1:31...</td>\n      <td>sistemsell.com</td>\n      <td></td>\n      <td>МВД</td>\n      <td>2022-02-18-2086</td>\n      <td>2022-02-18</td>\n    </tr>\n  </tbody>\n</table>\n<p>566014 rows × 6 columns</p>\n</div>"
     },
     "execution_count": 263,
     "metadata": {},
     "output_type": "execute_result"
    }
   ],
   "source": [
    "df"
   ],
   "metadata": {
    "collapsed": false,
    "pycharm": {
     "name": "#%%\n"
    }
   }
  },
  {
   "cell_type": "code",
   "execution_count": 265,
   "outputs": [],
   "source": [
    "df = df.rename(columns=df.iloc[0]).drop(df.index[0])"
   ],
   "metadata": {
    "collapsed": false,
    "pycharm": {
     "name": "#%%\n"
    }
   }
  },
  {
   "cell_type": "markdown",
   "source": [
    "Получаем информацию о доменах заблокированных сайтов"
   ],
   "metadata": {
    "collapsed": false,
    "pycharm": {
     "name": "#%% md\n"
    }
   }
  },
  {
   "cell_type": "code",
   "execution_count": 266,
   "outputs": [],
   "source": [
    "def extract_domen(text):\n",
    "    try:\n",
    "        domen = text.split('.')[-1]\n",
    "        return domen\n",
    "    except:\n",
    "        return text\n",
    "\n",
    "df['page'] = df['page'].apply(extract_domen)"
   ],
   "metadata": {
    "collapsed": false,
    "pycharm": {
     "name": "#%%\n"
    }
   }
  },
  {
   "cell_type": "code",
   "execution_count": 273,
   "outputs": [],
   "source": [
    "df.page.value_counts().head(20).reset_index().to_csv('domen.csv')"
   ],
   "metadata": {
    "collapsed": false,
    "pycharm": {
     "name": "#%%\n"
    }
   }
  },
  {
   "cell_type": "code",
   "execution_count": 270,
   "outputs": [],
   "source": [
    "df.page.value_counts().head(20).to_csv('domen.csv')"
   ],
   "metadata": {
    "collapsed": false,
    "pycharm": {
     "name": "#%%\n"
    }
   }
  },
  {
   "cell_type": "markdown",
   "source": [
    "Получаем информацию об органах, блокирующих сайты"
   ],
   "metadata": {
    "collapsed": false,
    "pycharm": {
     "name": "#%% md\n"
    }
   }
  },
  {
   "cell_type": "code",
   "execution_count": 259,
   "outputs": [
    {
     "data": {
      "text/plain": "ФНС                                                   247053\nГенпрокуратура                                         49785\nМосгорсуд                                              41180\nМинкомсвязь                                            35216\nсуд                                                    30841\n                                                       ...  \nАпанасенковский районный суд - Ставропольский край         1\nЧернушинский районный суд Пермскрого края                  1\nПорховский районный суд Псковской области                  1\nДимитровградский городской суд Ульяновской области         1\nСорский районный суд - Республика Хакасия                  1\nName: gos_organ, Length: 2264, dtype: int64"
     },
     "execution_count": 259,
     "metadata": {},
     "output_type": "execute_result"
    }
   ],
   "source": [
    "df.gos_organ.value_counts()"
   ],
   "metadata": {
    "collapsed": false,
    "pycharm": {
     "name": "#%%\n"
    }
   }
  },
  {
   "cell_type": "code",
   "execution_count": 254,
   "outputs": [],
   "source": [
    "def region_change(text):\n",
    "    try:\n",
    "        region = text.split('-')[-1]\n",
    "        return region\n",
    "    except:\n",
    "        return text\n",
    "\n",
    "df['gos_organ'] = df['gos_organ'].apply(region_change)\n"
   ],
   "metadata": {
    "collapsed": false,
    "pycharm": {
     "name": "#%%\n"
    }
   }
  },
  {
   "cell_type": "code",
   "execution_count": 256,
   "outputs": [],
   "source": [
    "df.gos_organ.value_counts().to_csv('regions.csv')"
   ],
   "metadata": {
    "collapsed": false,
    "pycharm": {
     "name": "#%%\n"
    }
   }
  },
  {
   "cell_type": "code",
   "execution_count": 229,
   "outputs": [],
   "source": [
    "df_service = df"
   ],
   "metadata": {
    "collapsed": false,
    "pycharm": {
     "name": "#%%\n"
    }
   }
  },
  {
   "cell_type": "code",
   "execution_count": 230,
   "outputs": [],
   "source": [
    "import re\n",
    "def join_courts(text):\n",
    "    if re.search('суд[а-я]*', text.lower()):\n",
    "        return \"суды\"\n",
    "    elif re.search('.*ФССП.*', text):\n",
    "        return \"судебные приставы\"\n",
    "    elif re.search('[\\d\\-/]', text):\n",
    "        return None\n",
    "    else:\n",
    "        return text\n",
    "\n",
    "df_service['gos_organ'] = df_service['gos_organ'].apply(join_courts)"
   ],
   "metadata": {
    "collapsed": false,
    "pycharm": {
     "name": "#%%\n"
    }
   }
  },
  {
   "cell_type": "code",
   "execution_count": 231,
   "outputs": [],
   "source": [
    "df_service = df_service[df_service.gos_organ != ' Тюменской области']"
   ],
   "metadata": {
    "collapsed": false,
    "pycharm": {
     "name": "#%%\n"
    }
   }
  },
  {
   "cell_type": "code",
   "execution_count": 232,
   "outputs": [
    {
     "data": {
      "text/plain": "ФНС                         247053\nсуды                        168575\nГенпрокуратура               49785\nМинкомсвязь                  35216\nРоскомнадзор                 25713\nМВД                          23512\nРосздравнадзор                8836\nРосалкогольрегулирование      5281\nРоспотребнадзор               1129\nФСКН                           620\nРосмолодежь                    206\nсудебные приставы               67\nName: gos_organ, dtype: int64"
     },
     "execution_count": 232,
     "metadata": {},
     "output_type": "execute_result"
    }
   ],
   "source": [
    "df_service['gos_organ'].value_counts()"
   ],
   "metadata": {
    "collapsed": false,
    "pycharm": {
     "name": "#%%\n"
    }
   }
  },
  {
   "cell_type": "code",
   "execution_count": 233,
   "outputs": [
    {
     "data": {
      "text/plain": "                                                       ip  \\\n1       ['172.67.129.252', '104.21.3.7', '2606:4700:30...   \n2       ['188.114.96.2', '188.114.97.2', '2a06:98c1:31...   \n3       ['188.114.96.2', '188.114.97.2', '2a06:98c1:31...   \n4       ['188.114.97.2', '188.114.96.2', '2a06:98c1:31...   \n5       ['2606:4700:3031::ac43:bba1', '172.67.187.161'...   \n...                                                   ...   \n566009  ['188.114.97.2', '188.114.96.2', '2a06:98c1:31...   \n566010                                 ['91.209.226.154']   \n566011  ['2606:4700:3036::ac43:b0e1', '104.21.96.107',...   \n566012  ['2606:4700:3037::ac43:ad36', '2606:4700:3034:...   \n566013  ['188.114.96.2', '188.114.97.2', '2a06:98c1:31...   \n\n                                 page  \\\n1                         daside.club   \n2                        *.g-live.xyz   \n3                        omikron-r.ru   \n4                          ivecop.com   \n5                     shadow-bank.xyz   \n...                               ...   \n566009           hidraruzxpnew4af.net   \n566010  hydrarusikxpnew4bfonionon.com   \n566011                   livetv513.me   \n566012       hydraruxzmpnsnews4af.com   \n566013                 sistemsell.com   \n\n                                                     link       gos_organ  \\\n1       https://daside.club/threads/debetovye-karty-ot...            суды   \n2                                                                     МВД   \n3                     https://omikron-r.ru/zhivotnye-jady            суды   \n4              https://ivecop.com/catalog/Vasu-HealthCare  Росздравнадзор   \n5       https://shadow-bank.xyz/threads/kupit-poddelny...            суды   \n...                                                   ...             ...   \n566009                                                                МВД   \n566010                                                                МВД   \n566011                                                        Минкомсвязь   \n566012                                                                МВД   \n566013                                                                МВД   \n\n             postanovlenie        date  \n1             2а-1372/2022  2022-01-27  \n2          2022-02-18-1932  2022-02-18  \n3               2а-74/2022  2022-02-17  \n4       2022-02-18-2761-ПЛ  2022-02-21  \n5              2а-279/2022  2022-02-09  \n...                    ...         ...  \n566009     2020-07-15-1257  2020-07-15  \n566010     2020-07-15-1257  2020-07-15  \n566011       1з-44497/2022  2022-02-21  \n566012     2020-07-15-1257  2020-07-15  \n566013     2022-02-18-2086  2022-02-18  \n\n[566012 rows x 6 columns]",
      "text/html": "<div>\n<style scoped>\n    .dataframe tbody tr th:only-of-type {\n        vertical-align: middle;\n    }\n\n    .dataframe tbody tr th {\n        vertical-align: top;\n    }\n\n    .dataframe thead th {\n        text-align: right;\n    }\n</style>\n<table border=\"1\" class=\"dataframe\">\n  <thead>\n    <tr style=\"text-align: right;\">\n      <th></th>\n      <th>ip</th>\n      <th>page</th>\n      <th>link</th>\n      <th>gos_organ</th>\n      <th>postanovlenie</th>\n      <th>date</th>\n    </tr>\n  </thead>\n  <tbody>\n    <tr>\n      <th>1</th>\n      <td>['172.67.129.252', '104.21.3.7', '2606:4700:30...</td>\n      <td>daside.club</td>\n      <td>https://daside.club/threads/debetovye-karty-ot...</td>\n      <td>суды</td>\n      <td>2а-1372/2022</td>\n      <td>2022-01-27</td>\n    </tr>\n    <tr>\n      <th>2</th>\n      <td>['188.114.96.2', '188.114.97.2', '2a06:98c1:31...</td>\n      <td>*.g-live.xyz</td>\n      <td></td>\n      <td>МВД</td>\n      <td>2022-02-18-1932</td>\n      <td>2022-02-18</td>\n    </tr>\n    <tr>\n      <th>3</th>\n      <td>['188.114.96.2', '188.114.97.2', '2a06:98c1:31...</td>\n      <td>omikron-r.ru</td>\n      <td>https://omikron-r.ru/zhivotnye-jady</td>\n      <td>суды</td>\n      <td>2а-74/2022</td>\n      <td>2022-02-17</td>\n    </tr>\n    <tr>\n      <th>4</th>\n      <td>['188.114.97.2', '188.114.96.2', '2a06:98c1:31...</td>\n      <td>ivecop.com</td>\n      <td>https://ivecop.com/catalog/Vasu-HealthCare</td>\n      <td>Росздравнадзор</td>\n      <td>2022-02-18-2761-ПЛ</td>\n      <td>2022-02-21</td>\n    </tr>\n    <tr>\n      <th>5</th>\n      <td>['2606:4700:3031::ac43:bba1', '172.67.187.161'...</td>\n      <td>shadow-bank.xyz</td>\n      <td>https://shadow-bank.xyz/threads/kupit-poddelny...</td>\n      <td>суды</td>\n      <td>2а-279/2022</td>\n      <td>2022-02-09</td>\n    </tr>\n    <tr>\n      <th>...</th>\n      <td>...</td>\n      <td>...</td>\n      <td>...</td>\n      <td>...</td>\n      <td>...</td>\n      <td>...</td>\n    </tr>\n    <tr>\n      <th>566009</th>\n      <td>['188.114.97.2', '188.114.96.2', '2a06:98c1:31...</td>\n      <td>hidraruzxpnew4af.net</td>\n      <td></td>\n      <td>МВД</td>\n      <td>2020-07-15-1257</td>\n      <td>2020-07-15</td>\n    </tr>\n    <tr>\n      <th>566010</th>\n      <td>['91.209.226.154']</td>\n      <td>hydrarusikxpnew4bfonionon.com</td>\n      <td></td>\n      <td>МВД</td>\n      <td>2020-07-15-1257</td>\n      <td>2020-07-15</td>\n    </tr>\n    <tr>\n      <th>566011</th>\n      <td>['2606:4700:3036::ac43:b0e1', '104.21.96.107',...</td>\n      <td>livetv513.me</td>\n      <td></td>\n      <td>Минкомсвязь</td>\n      <td>1з-44497/2022</td>\n      <td>2022-02-21</td>\n    </tr>\n    <tr>\n      <th>566012</th>\n      <td>['2606:4700:3037::ac43:ad36', '2606:4700:3034:...</td>\n      <td>hydraruxzmpnsnews4af.com</td>\n      <td></td>\n      <td>МВД</td>\n      <td>2020-07-15-1257</td>\n      <td>2020-07-15</td>\n    </tr>\n    <tr>\n      <th>566013</th>\n      <td>['188.114.96.2', '188.114.97.2', '2a06:98c1:31...</td>\n      <td>sistemsell.com</td>\n      <td></td>\n      <td>МВД</td>\n      <td>2022-02-18-2086</td>\n      <td>2022-02-18</td>\n    </tr>\n  </tbody>\n</table>\n<p>566012 rows × 6 columns</p>\n</div>"
     },
     "execution_count": 233,
     "metadata": {},
     "output_type": "execute_result"
    }
   ],
   "source": [
    "df_service"
   ],
   "metadata": {
    "collapsed": false,
    "pycharm": {
     "name": "#%%\n"
    }
   }
  },
  {
   "cell_type": "markdown",
   "source": [
    "Преобразуем дату в формат datetime"
   ],
   "metadata": {
    "collapsed": false,
    "pycharm": {
     "name": "#%% md\n"
    }
   }
  },
  {
   "cell_type": "code",
   "execution_count": null,
   "outputs": [],
   "source": [
    "from datetime import datetime\n",
    "\n",
    "def change_date(x):\n",
    "    date = datetime.strptime(x, \"%Y-%m-%d\")\n",
    "    return date.strftime('%m-%Y')\n",
    "\n",
    "df_service['date'] = df_service['date'].apply(change_date)\n"
   ],
   "metadata": {
    "collapsed": false,
    "pycharm": {
     "name": "#%%\n",
     "is_executing": true
    }
   }
  },
  {
   "cell_type": "markdown",
   "source": [],
   "metadata": {
    "collapsed": false,
    "pycharm": {
     "name": "#%% md\n"
    }
   }
  },
  {
   "cell_type": "code",
   "execution_count": null,
   "outputs": [],
   "source": [
    "import datetime\n",
    "\n",
    "df_service['date'] = pd.to_datetime(df_service['date']).dt.to_period('M')"
   ],
   "metadata": {
    "collapsed": false,
    "pycharm": {
     "name": "#%%\n",
     "is_executing": true
    }
   }
  },
  {
   "cell_type": "code",
   "execution_count": 236,
   "outputs": [],
   "source": [
    "df_service = df_service[(df_service['date'] > '12-2011') & (df_service['date'] < '01-2022')]"
   ],
   "metadata": {
    "collapsed": false,
    "pycharm": {
     "name": "#%%\n"
    }
   }
  },
  {
   "cell_type": "code",
   "execution_count": 237,
   "outputs": [
    {
     "data": {
      "text/plain": "2016-06    21557\n2015-04    20532\n2020-07    17775\n2015-03    16745\n2017-08    15322\n           ...  \n2014-01       25\n2013-02       23\n2012-08       18\n2013-04       10\n2012-04        3\nFreq: M, Name: date, Length: 120, dtype: int64"
     },
     "execution_count": 237,
     "metadata": {},
     "output_type": "execute_result"
    }
   ],
   "source": [
    "df_service['date'].value_counts()"
   ],
   "metadata": {
    "collapsed": false,
    "pycharm": {
     "name": "#%%\n"
    }
   }
  },
  {
   "cell_type": "code",
   "execution_count": 238,
   "outputs": [],
   "source": [
    "df_service_viz = df_service.groupby(by=[\"date\", \"gos_organ\"]).count()"
   ],
   "metadata": {
    "collapsed": false,
    "pycharm": {
     "name": "#%%\n"
    }
   }
  },
  {
   "cell_type": "code",
   "execution_count": 239,
   "outputs": [],
   "source": [
    "df_service_viz = df_service_viz.drop(['ip', 'link', 'postanovlenie'], axis=1)"
   ],
   "metadata": {
    "collapsed": false,
    "pycharm": {
     "name": "#%%\n"
    }
   }
  },
  {
   "cell_type": "code",
   "execution_count": 240,
   "outputs": [
    {
     "data": {
      "text/plain": "                         page\ndate    gos_organ            \n2012-01 суды               43\n2012-02 суды              485\n2012-03 суды               71\n2012-04 суды                3\n2012-05 суды               29\n...                       ...\n2021-12 Роскомнадзор      914\n        Росмолодежь        14\n        Роспотребнадзор    29\n        ФНС              3480\n        суды             7098\n\n[685 rows x 1 columns]",
      "text/html": "<div>\n<style scoped>\n    .dataframe tbody tr th:only-of-type {\n        vertical-align: middle;\n    }\n\n    .dataframe tbody tr th {\n        vertical-align: top;\n    }\n\n    .dataframe thead th {\n        text-align: right;\n    }\n</style>\n<table border=\"1\" class=\"dataframe\">\n  <thead>\n    <tr style=\"text-align: right;\">\n      <th></th>\n      <th></th>\n      <th>page</th>\n    </tr>\n    <tr>\n      <th>date</th>\n      <th>gos_organ</th>\n      <th></th>\n    </tr>\n  </thead>\n  <tbody>\n    <tr>\n      <th>2012-01</th>\n      <th>суды</th>\n      <td>43</td>\n    </tr>\n    <tr>\n      <th>2012-02</th>\n      <th>суды</th>\n      <td>485</td>\n    </tr>\n    <tr>\n      <th>2012-03</th>\n      <th>суды</th>\n      <td>71</td>\n    </tr>\n    <tr>\n      <th>2012-04</th>\n      <th>суды</th>\n      <td>3</td>\n    </tr>\n    <tr>\n      <th>2012-05</th>\n      <th>суды</th>\n      <td>29</td>\n    </tr>\n    <tr>\n      <th>...</th>\n      <th>...</th>\n      <td>...</td>\n    </tr>\n    <tr>\n      <th rowspan=\"5\" valign=\"top\">2021-12</th>\n      <th>Роскомнадзор</th>\n      <td>914</td>\n    </tr>\n    <tr>\n      <th>Росмолодежь</th>\n      <td>14</td>\n    </tr>\n    <tr>\n      <th>Роспотребнадзор</th>\n      <td>29</td>\n    </tr>\n    <tr>\n      <th>ФНС</th>\n      <td>3480</td>\n    </tr>\n    <tr>\n      <th>суды</th>\n      <td>7098</td>\n    </tr>\n  </tbody>\n</table>\n<p>685 rows × 1 columns</p>\n</div>"
     },
     "execution_count": 240,
     "metadata": {},
     "output_type": "execute_result"
    }
   ],
   "source": [
    "df_service_viz"
   ],
   "metadata": {
    "collapsed": false,
    "pycharm": {
     "name": "#%%\n"
    }
   }
  },
  {
   "cell_type": "code",
   "execution_count": 241,
   "outputs": [],
   "source": [
    "df_service_viz.to_csv('for_services_graph_m.csv')"
   ],
   "metadata": {
    "collapsed": false,
    "pycharm": {
     "name": "#%%\n"
    }
   }
  }
 ],
 "metadata": {
  "kernelspec": {
   "display_name": "Python 3",
   "language": "python",
   "name": "python3"
  },
  "language_info": {
   "codemirror_mode": {
    "name": "ipython",
    "version": 2
   },
   "file_extension": ".py",
   "mimetype": "text/x-python",
   "name": "python",
   "nbconvert_exporter": "python",
   "pygments_lexer": "ipython2",
   "version": "2.7.6"
  }
 },
 "nbformat": 4,
 "nbformat_minor": 0
}